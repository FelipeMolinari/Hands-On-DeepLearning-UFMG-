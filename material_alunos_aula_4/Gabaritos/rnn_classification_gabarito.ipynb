{
  "nbformat": 4,
  "nbformat_minor": 0,
  "metadata": {
    "colab": {
      "name": "rnn_classification_gabarito.ipynb",
      "provenance": [],
      "collapsed_sections": []
    },
    "kernelspec": {
      "name": "python3",
      "display_name": "Python 3"
    },
    "accelerator": "GPU"
  },
  "cells": [
    {
      "cell_type": "markdown",
      "metadata": {
        "id": "xWbKs2L2VLAN",
        "colab_type": "text"
      },
      "source": [
        "# Classificando nomes com uma *Character-Level RNN*"
      ]
    },
    {
      "cell_type": "markdown",
      "metadata": {
        "id": "JzlUoQmIVPod",
        "colab_type": "text"
      },
      "source": [
        "https://github.com/spro/practical-pytorch/blob/master/char-rnn-classification/char-rnn-classification.ipynb\n",
        "\n",
        "---\n",
        "\n"
      ]
    },
    {
      "cell_type": "markdown",
      "metadata": {
        "id": "u3yTcZViBgS8",
        "colab_type": "text"
      },
      "source": [
        "### Problema: Dado um nome próprio de entrada, classificar esse nome de acordo com a nacionalidade a que ele pertence."
      ]
    },
    {
      "cell_type": "markdown",
      "metadata": {
        "id": "ehwomfzYVZNe",
        "colab_type": "text"
      },
      "source": [
        "python predict.py **Hinton**\n",
        "\n",
        "(-0.47) Scottish\n",
        "\n",
        "(-1.52) English\n",
        "\n",
        "(-3.57) Irish\n",
        "\n",
        "\n",
        "-\n",
        "\n",
        "python predict.py **Schmidhuber**\n",
        "\n",
        "(-0.19) German\n",
        "\n",
        "(-2.48) Czech\n",
        "\n",
        "(-2.68) Dutch"
      ]
    },
    {
      "cell_type": "markdown",
      "metadata": {
        "id": "-r2eSYyYB78h",
        "colab_type": "text"
      },
      "source": [
        "\n",
        "---\n",
        "### Import de bibliotecas"
      ]
    },
    {
      "cell_type": "code",
      "metadata": {
        "id": "PIPESSWBeXKC",
        "colab_type": "code",
        "colab": {}
      },
      "source": [
        "import unicodedata\n",
        "import torch\n",
        "import string\n",
        "import torch.nn as nn\n",
        "from torch.autograd import Variable\n",
        "import sys, random, os\n",
        "import matplotlib.pyplot as plt\n",
        "\n",
        "%matplotlib inline\n",
        "\n",
        "from sklearn.model_selection import train_test_split as split\n",
        "\n",
        "args = {\n",
        "    'lr': 1e-4,\n",
        "    'weight_decay': 5e-6 \n",
        "}\n",
        "\n",
        "if torch.cuda.is_available():\n",
        "  args['device'] = torch.device('cuda')\n",
        "else:\n",
        "  args['device'] = torch.device('cpu')"
      ],
      "execution_count": 0,
      "outputs": []
    },
    {
      "cell_type": "markdown",
      "metadata": {
        "id": "skDOjmZZCCzc",
        "colab_type": "text"
      },
      "source": [
        "\n",
        "---\n",
        "\n",
        "### Importando dataset"
      ]
    },
    {
      "cell_type": "code",
      "metadata": {
        "id": "T09ezsbbVETm",
        "colab_type": "code",
        "outputId": "fe9c05ee-fa58-429c-bdd5-e17b25a6844b",
        "colab": {
          "base_uri": "https://localhost:8080/",
          "height": 626
        }
      },
      "source": [
        "# comente as duas linhas seguintes caso rode mais de uma vez\n",
        "!wget https://download.pytorch.org/tutorial/data.zip #\n",
        "!unzip data.zip #\n",
        "############################################################\n",
        "\n",
        "root_path = 'data/names/'\n",
        "all_filenames = []\n",
        "for file_name in os.listdir(root_path):\n",
        "  all_filenames.append(os.path.join(root_path,file_name))"
      ],
      "execution_count": 2,
      "outputs": [
        {
          "output_type": "stream",
          "text": [
            "--2020-02-28 19:09:08--  https://download.pytorch.org/tutorial/data.zip\n",
            "Resolving download.pytorch.org (download.pytorch.org)... 13.224.253.114, 13.224.253.59, 13.224.253.46, ...\n",
            "Connecting to download.pytorch.org (download.pytorch.org)|13.224.253.114|:443... connected.\n",
            "HTTP request sent, awaiting response... 200 OK\n",
            "Length: 2882130 (2.7M) [application/zip]\n",
            "Saving to: ‘data.zip’\n",
            "\n",
            "\rdata.zip              0%[                    ]       0  --.-KB/s               \rdata.zip            100%[===================>]   2.75M  --.-KB/s    in 0.09s   \n",
            "\n",
            "2020-02-28 19:09:10 (30.2 MB/s) - ‘data.zip’ saved [2882130/2882130]\n",
            "\n",
            "Archive:  data.zip\n",
            "   creating: data/\n",
            "  inflating: data/eng-fra.txt        \n",
            "   creating: data/names/\n",
            "  inflating: data/names/Arabic.txt   \n",
            "  inflating: data/names/Chinese.txt  \n",
            "  inflating: data/names/Czech.txt    \n",
            "  inflating: data/names/Dutch.txt    \n",
            "  inflating: data/names/English.txt  \n",
            "  inflating: data/names/French.txt   \n",
            "  inflating: data/names/German.txt   \n",
            "  inflating: data/names/Greek.txt    \n",
            "  inflating: data/names/Irish.txt    \n",
            "  inflating: data/names/Italian.txt  \n",
            "  inflating: data/names/Japanese.txt  \n",
            "  inflating: data/names/Korean.txt   \n",
            "  inflating: data/names/Polish.txt   \n",
            "  inflating: data/names/Portuguese.txt  \n",
            "  inflating: data/names/Russian.txt  \n",
            "  inflating: data/names/Scottish.txt  \n",
            "  inflating: data/names/Spanish.txt  \n",
            "  inflating: data/names/Vietnamese.txt  \n"
          ],
          "name": "stdout"
        }
      ]
    },
    {
      "cell_type": "code",
      "metadata": {
        "id": "ltk3-NJabrHz",
        "colab_type": "code",
        "outputId": "bb6b7519-6380-47b7-adc9-6701c7075a3e",
        "colab": {
          "base_uri": "https://localhost:8080/",
          "height": 35
        }
      },
      "source": [
        "category_lines = {}\n",
        "all_categories = []\n",
        "\n",
        "# Read a file and split into lines\n",
        "def readLines(filename):\n",
        "    lines = open(filename).read().strip().split('\\n')\n",
        "    #return lines\n",
        "    return [unicodedata.normalize('NFKD', line).encode('ascii', 'ignore') for line in lines]\n",
        "\n",
        "for filename in all_filenames:\n",
        "    category = filename.split('/')[-1].split('.')[0]\n",
        "    all_categories.append(category)\n",
        "    lines = readLines(filename)\n",
        "    category_lines[category] = lines\n",
        "\n",
        "n_categories = len(all_categories)\n",
        "print('n_categories =', n_categories)"
      ],
      "execution_count": 14,
      "outputs": [
        {
          "output_type": "stream",
          "text": [
            "n_categories = 18\n"
          ],
          "name": "stdout"
        }
      ]
    },
    {
      "cell_type": "code",
      "metadata": {
        "id": "mi6dNGFLdNU6",
        "colab_type": "code",
        "outputId": "6afcbdc3-69af-418e-e2b4-16fb82f6fea7",
        "colab": {
          "base_uri": "https://localhost:8080/",
          "height": 35
        }
      },
      "source": [
        "category_lines['Portuguese'][:5]"
      ],
      "execution_count": 4,
      "outputs": [
        {
          "output_type": "execute_result",
          "data": {
            "text/plain": [
              "[b'Abreu', b'Albuquerque', b'Almeida', b'Alves', b'Araujo']"
            ]
          },
          "metadata": {
            "tags": []
          },
          "execution_count": 4
        }
      ]
    },
    {
      "cell_type": "markdown",
      "metadata": {
        "id": "BN_P5qE9DD7f",
        "colab_type": "text"
      },
      "source": [
        "\n",
        "---\n",
        "### Convertendo caracteres para tensores\n",
        "Nesse caso, cada caracter será convertido para uma representação *one-hot*\n"
      ]
    },
    {
      "cell_type": "code",
      "metadata": {
        "id": "AxEA1ClZds4c",
        "colab_type": "code",
        "colab": {}
      },
      "source": [
        "all_letters = string.ascii_letters + \" .,;'\"\n",
        "n_letters = len(all_letters)\n",
        "\n",
        "# Just for demonstration, turn a letter into a <1 x n_letters> Tensor\n",
        "def letter_to_tensor(letter):\n",
        "    tensor = torch.zeros(1, n_letters)\n",
        "    letter_index = all_letters.find(letter)\n",
        "    tensor[0][letter_index] = 1\n",
        "    return tensor\n",
        "\n",
        "# Turn a line into a <line_length x 1 x n_letters>,\n",
        "# or an array of one-hot letter vectors\n",
        "def line_to_tensor(line):\n",
        "    tensor = torch.zeros(len(line), 1, n_letters)\n",
        "    for li, letter in enumerate(line.decode('utf-8')):\n",
        "        letter_index = all_letters.find(letter)\n",
        "        tensor[li][0][letter_index] = 1\n",
        "    return tensor"
      ],
      "execution_count": 0,
      "outputs": []
    },
    {
      "cell_type": "code",
      "metadata": {
        "id": "4Sv4Giioe8RS",
        "colab_type": "code",
        "outputId": "12b4ab67-080c-499f-ac97-df9939d35334",
        "colab": {
          "base_uri": "https://localhost:8080/",
          "height": 109
        }
      },
      "source": [
        "tns = letter_to_tensor('a')\n",
        "print(tns)\n",
        "print(tns.size())"
      ],
      "execution_count": 16,
      "outputs": [
        {
          "output_type": "stream",
          "text": [
            "tensor([[1., 0., 0., 0., 0., 0., 0., 0., 0., 0., 0., 0., 0., 0., 0., 0., 0., 0.,\n",
            "         0., 0., 0., 0., 0., 0., 0., 0., 0., 0., 0., 0., 0., 0., 0., 0., 0., 0.,\n",
            "         0., 0., 0., 0., 0., 0., 0., 0., 0., 0., 0., 0., 0., 0., 0., 0., 0., 0.,\n",
            "         0., 0., 0.]])\n",
            "torch.Size([1, 57])\n"
          ],
          "name": "stdout"
        }
      ]
    },
    {
      "cell_type": "markdown",
      "metadata": {
        "id": "T58yGDm8FlSd",
        "colab_type": "text"
      },
      "source": [
        "\n",
        "\n",
        "---\n",
        "\n",
        "\n",
        "### Funções auxiliares para estruturar as amostras de treino e teste"
      ]
    },
    {
      "cell_type": "code",
      "metadata": {
        "id": "Od2ko1iD6krC",
        "colab_type": "code",
        "colab": {}
      },
      "source": [
        "def category_from_output(output):\n",
        "    top_n, top_i = output.data.topk(1) # Tensor out of Variable with .data\n",
        "    category_i = top_i[0][0]\n",
        "    return all_categories[category_i]"
      ],
      "execution_count": 0,
      "outputs": []
    },
    {
      "cell_type": "code",
      "metadata": {
        "id": "x3B_1fpTF9P-",
        "colab_type": "code",
        "colab": {}
      },
      "source": [
        "X_train, X_test = {}, {}\n",
        "for category in all_categories:\n",
        "  train, test = split(category_lines[category], test_size=0.1)\n",
        "  \n",
        "  X_train[category] = train\n",
        "  X_test[category] = test"
      ],
      "execution_count": 0,
      "outputs": []
    },
    {
      "cell_type": "markdown",
      "metadata": {
        "id": "4k4IaUFvDt0v",
        "colab_type": "text"
      },
      "source": [
        "\n",
        "\n",
        "---\n",
        "\n",
        "### Construindo modelo RNN\n",
        "\n",
        "* Implemente um modelo para classificação de nomes próprios (série de caracteres) usando apenas camadas *RNNCell*, *Linear* e ativação *LogSoftmax*\n",
        "* Cada entrada (caracter) possui dimensão (57): alfabeto maiúsculo e minúsculo\n",
        "* *Hidden size* possui dimensão (256): hiperparâmetro \n",
        "* Saída possui dimensão (18): vetor de probabilidade de classes\n",
        "* Batch size = 1 de acordo com a implementação do loop de treinamento\n",
        "\n",
        "**Links úteis**\n",
        "\n",
        "RNNCell: https://pytorch.org/docs/stable/nn.html#torch.nn.RNNCell\n",
        "\n",
        "Linear: https://pytorch.org/docs/stable/nn.html#torch.nn.Linear\n",
        "\n",
        "Non-linear activations: https://pytorch.org/docs/stable/nn.html#non-linear-activations-other\n",
        "\n"
      ]
    },
    {
      "cell_type": "code",
      "metadata": {
        "id": "BtIFLlfKfIBH",
        "colab_type": "code",
        "outputId": "08080b27-d9b3-4578-f3bc-de7e8a6ae13e",
        "colab": {
          "base_uri": "https://localhost:8080/",
          "height": 109
        }
      },
      "source": [
        "class CustomNetwork(nn.Module):\n",
        "    def __init__(self, input_size, hidden_size, output_size):\n",
        "        super(CustomNetwork, self).__init__()\n",
        "        \n",
        "        self.input_size = input_size\n",
        "        self.hidden_size = hidden_size\n",
        "        self.output_size = output_size\n",
        "        \n",
        "        self.rnn    = nn.RNNCell(self.input_size, self.hidden_size, nonlinearity='tanh')\n",
        "        self.linear = nn.Linear(self.hidden_size, self.output_size)\n",
        "        self.softmax = nn.LogSoftmax()\n",
        "    \n",
        "    def forward(self, input):\n",
        "      \n",
        "        # Set initial hidden state \n",
        "        self.hidden = Variable(torch.zeros(1, self.hidden_size).double()).to(args['device']) #GPU\n",
        "       \n",
        "        for input_t in input:\n",
        "          self.hidden = self.rnn(input_t, self.hidden)\n",
        "        \n",
        "        output = self.linear(self.hidden)\n",
        "        output = self.softmax(output) \n",
        "        return output\n",
        "\n",
        "n_hidden = 256\n",
        "model = CustomNetwork(n_letters, n_hidden, n_categories)\n",
        "model.double().to(args['device']) #GPU"
      ],
      "execution_count": 70,
      "outputs": [
        {
          "output_type": "execute_result",
          "data": {
            "text/plain": [
              "CustomNetwork(\n",
              "  (rnn): RNNCell(57, 256)\n",
              "  (linear): Linear(in_features=256, out_features=18, bias=True)\n",
              "  (softmax): LogSoftmax()\n",
              ")"
            ]
          },
          "metadata": {
            "tags": []
          },
          "execution_count": 70
        }
      ]
    },
    {
      "cell_type": "markdown",
      "metadata": {
        "id": "jgppRhH7ZRIY",
        "colab_type": "text"
      },
      "source": [
        "\n",
        "\n",
        "---\n",
        "\n",
        "### Instanciando *Loss* e Otimizador"
      ]
    },
    {
      "cell_type": "code",
      "metadata": {
        "id": "4HGEyjwRZXjV",
        "colab_type": "code",
        "colab": {}
      },
      "source": [
        "criterion = nn.NLLLoss().to(args['device']) #GPU\n",
        "optimizer = torch.optim.Adam(model.parameters(), lr=args['lr'], weight_decay=args['weight_decay'])"
      ],
      "execution_count": 0,
      "outputs": []
    },
    {
      "cell_type": "markdown",
      "metadata": {
        "id": "hpRfr8HrFtF4",
        "colab_type": "text"
      },
      "source": [
        "\n",
        "\n",
        "---\n",
        "\n",
        "### Treinando / Testando modelo"
      ]
    },
    {
      "cell_type": "code",
      "metadata": {
        "id": "vzY7EaLWQpe3",
        "colab_type": "code",
        "outputId": "20c737c6-22a9-4d79-e3ee-0b0b3d47ab70",
        "colab": {
          "base_uri": "https://localhost:8080/",
          "height": 425
        }
      },
      "source": [
        "num_epochs = 20\n",
        "num_steps  = 2000\n",
        "print_every = 2000\n",
        "\n",
        "current_loss = 0\n",
        "current_acc = 0\n",
        "all_losses, all_val_losses, all_acc, all_val_acc = [], [], [], []\n",
        "for epoch in range(num_epochs):  \n",
        "\n",
        "  for step in range(num_steps):\n",
        "    \n",
        "    # Set to Train Mode\n",
        "    model.train()\n",
        "    \n",
        "    category = random.choice(all_categories)\n",
        "    line = random.choice(X_train[category])\n",
        "  \n",
        "    category_tensor = Variable(torch.LongTensor([all_categories.index(category)])).to(args['device']) \n",
        "    line_tensor     = Variable(line_to_tensor(line)).double().to(args['device'])\n",
        "\n",
        "    # Forward pass\n",
        "    output = model(line_tensor)\n",
        "    loss = criterion(output, category_tensor)\n",
        "    current_loss += loss\n",
        "    current_acc  += 1 if category_from_output(output) == category else 0\n",
        "    \n",
        "    # Backward and optimize\n",
        "    optimizer.zero_grad()\n",
        "    loss.backward()\n",
        "    optimizer.step()\n",
        "    \n",
        "    if (step+1) % print_every == 0:\n",
        "      \n",
        "      #Set to evaluation mode\n",
        "      model.eval()\n",
        "      n_test_steps = 100\n",
        "      \n",
        "      test_loss, acc = 0, 0\n",
        "      for tstep in range(n_test_steps):\n",
        "      \n",
        "        category = random.choice(all_categories)\n",
        "        line = random.choice(X_test[category])\n",
        "\n",
        "        category_tensor = Variable(torch.LongTensor([all_categories.index(category)])).to(args['device'])\n",
        "        line_tensor     = Variable(line_to_tensor(line)).double().to(args['device'])\n",
        "\n",
        "        output = model(line_tensor)\n",
        "        loss = criterion(output, category_tensor)\n",
        "        test_loss += loss\n",
        "        acc += 1 if category_from_output(output) == category else 0\n",
        "      \n",
        "      \n",
        "      current_loss = current_loss.item()/float(print_every)\n",
        "      current_acc  = current_acc/float(print_every)\n",
        "      test_loss    = test_loss.item()/float(n_test_steps)\n",
        "      acc          = acc/float(n_test_steps)\n",
        "      \n",
        "      print('\\rEpoch: {:2} Train Loss: {:.3f} Train Acc: {:.2f}% Val Loss: {:.3f}  Val Acc: {:.2f}%'.format(epoch+1, current_loss, current_acc*100, test_loss, acc*100))\n",
        "\n",
        "      all_losses.append(current_loss)\n",
        "      all_acc.append(current_acc)\n",
        "      all_val_losses.append(test_loss)\n",
        "      all_val_acc.append(acc)\n",
        "\n",
        "      current_loss = 0\n",
        "      current_acc  = 0\n",
        "  "
      ],
      "execution_count": 72,
      "outputs": [
        {
          "output_type": "stream",
          "text": [
            "/usr/local/lib/python3.6/dist-packages/ipykernel_launcher.py:22: UserWarning: Implicit dimension choice for log_softmax has been deprecated. Change the call to include dim=X as an argument.\n"
          ],
          "name": "stderr"
        },
        {
          "output_type": "stream",
          "text": [
            "Epoch:  1 Train Loss: 2.711 Train Acc: 14.85% Val Loss: 2.588  Val Acc: 17.00%\n",
            "Epoch:  2 Train Loss: 2.442 Train Acc: 22.20% Val Loss: 2.300  Val Acc: 22.00%\n",
            "Epoch:  3 Train Loss: 2.263 Train Acc: 29.55% Val Loss: 2.156  Val Acc: 29.00%\n",
            "Epoch:  4 Train Loss: 2.119 Train Acc: 34.60% Val Loss: 2.033  Val Acc: 30.00%\n",
            "Epoch:  5 Train Loss: 2.006 Train Acc: 37.60% Val Loss: 1.920  Val Acc: 44.00%\n",
            "Epoch:  6 Train Loss: 1.934 Train Acc: 39.60% Val Loss: 1.750  Val Acc: 51.00%\n",
            "Epoch:  7 Train Loss: 1.829 Train Acc: 43.85% Val Loss: 1.738  Val Acc: 46.00%\n",
            "Epoch:  8 Train Loss: 1.731 Train Acc: 46.80% Val Loss: 1.875  Val Acc: 39.00%\n",
            "Epoch:  9 Train Loss: 1.691 Train Acc: 44.95% Val Loss: 1.737  Val Acc: 42.00%\n",
            "Epoch: 10 Train Loss: 1.588 Train Acc: 49.25% Val Loss: 1.833  Val Acc: 38.00%\n",
            "Epoch: 11 Train Loss: 1.564 Train Acc: 50.40% Val Loss: 1.710  Val Acc: 39.00%\n",
            "Epoch: 12 Train Loss: 1.547 Train Acc: 51.25% Val Loss: 1.584  Val Acc: 46.00%\n",
            "Epoch: 13 Train Loss: 1.496 Train Acc: 51.70% Val Loss: 1.622  Val Acc: 53.00%\n",
            "Epoch: 14 Train Loss: 1.463 Train Acc: 54.00% Val Loss: 1.880  Val Acc: 40.00%\n",
            "Epoch: 15 Train Loss: 1.466 Train Acc: 52.45% Val Loss: 1.613  Val Acc: 50.00%\n",
            "Epoch: 16 Train Loss: 1.383 Train Acc: 56.80% Val Loss: 1.658  Val Acc: 50.00%\n",
            "Epoch: 17 Train Loss: 1.358 Train Acc: 56.05% Val Loss: 1.723  Val Acc: 51.00%\n",
            "Epoch: 18 Train Loss: 1.335 Train Acc: 56.95% Val Loss: 1.436  Val Acc: 55.00%\n",
            "Epoch: 19 Train Loss: 1.296 Train Acc: 59.05% Val Loss: 1.844  Val Acc: 49.00%\n",
            "Epoch: 20 Train Loss: 1.259 Train Acc: 59.90% Val Loss: 1.523  Val Acc: 45.00%\n"
          ],
          "name": "stdout"
        }
      ]
    },
    {
      "cell_type": "markdown",
      "metadata": {
        "id": "AMJDZoNrW1wN",
        "colab_type": "text"
      },
      "source": [
        "\n",
        "\n",
        "---\n",
        "\n",
        "\n",
        "### Análise e plots"
      ]
    },
    {
      "cell_type": "code",
      "metadata": {
        "id": "V75MN9lf9KRK",
        "colab_type": "code",
        "outputId": "0d7be55c-c7c9-4a1a-adfb-5cbef4e23cdf",
        "colab": {
          "base_uri": "https://localhost:8080/",
          "height": 259
        }
      },
      "source": [
        "fig, (ax1, ax2) = plt.subplots(1, 2, figsize=(12,3))\n",
        "\n",
        "\n",
        "ax1.plot(all_losses[1:], label='Train')\n",
        "ax1.plot(all_val_losses[1:], label='Test')\n",
        "ax1.set_title('Model Convergence - Loss')\n",
        "ax1.set_xlabel('epochs')\n",
        "ax1.set_ylabel('Loss')\n",
        "ax1.legend()\n",
        "\n",
        "ax2.plot(all_acc, label='Train')\n",
        "ax2.plot(all_val_acc, label='Test')\n",
        "ax2.set_title('Model Convergence - Accuracy')\n",
        "ax2.set_xlabel('epochs')\n",
        "ax2.set_ylabel('Accuracy')\n",
        "ax2.legend()"
      ],
      "execution_count": 73,
      "outputs": [
        {
          "output_type": "execute_result",
          "data": {
            "text/plain": [
              "<matplotlib.legend.Legend at 0x7fd773fae5f8>"
            ]
          },
          "metadata": {
            "tags": []
          },
          "execution_count": 73
        },
        {
          "output_type": "display_data",
          "data": {
            "image/png": "[encoded data removed]",
            "text/plain": [
              "<Figure size 864x216 with 2 Axes>"
            ]
          },
          "metadata": {
            "tags": []
          }
        }
      ]
    },
    {
      "cell_type": "markdown",
      "metadata": {
        "id": "j5Pr5dvWh_Jb",
        "colab_type": "text"
      },
      "source": [
        "\n",
        "\n",
        "---\n",
        "\n",
        "### Fazendo predições com entradas de usuário"
      ]
    },
    {
      "cell_type": "code",
      "metadata": {
        "id": "_MolDbbq9L8p",
        "colab_type": "code",
        "outputId": "a12b4170-4c2d-4259-b31a-d92a8d71d1d4",
        "colab": {
          "base_uri": "https://localhost:8080/",
          "height": 332
        }
      },
      "source": [
        "def predict_input(input_line, n_predictions=3):\n",
        "    print('\\n> %s' % input_line)\n",
        "    \n",
        "    tensor = torch.zeros(len(input_line),1, n_letters)\n",
        "    for li, letter in enumerate(input_line):\n",
        "        letter_index = all_letters.find(letter)\n",
        "        tensor[li][0][letter_index] = 1\n",
        "        \n",
        "    output = model(Variable(tensor).double().cuda())\n",
        "\n",
        "    # Get top N categories\n",
        "    topv, topi = output.data.topk(n_predictions, 1, True)\n",
        "    predictions = []\n",
        "\n",
        "    for i in range(n_predictions):\n",
        "        value = topv[0][i]\n",
        "        category_index = topi[0][i]\n",
        "        print('(%.2f) %s' % (value, all_categories[category_index]))\n",
        "        predictions.append([value, all_categories[category_index]])\n",
        "\n",
        "predict_input('Mbape')\n",
        "predict_input('Guillermo')\n",
        "predict_input('Kyle')"
      ],
      "execution_count": 83,
      "outputs": [
        {
          "output_type": "stream",
          "text": [
            "\n",
            "> Mbape\n",
            "(-1.38) Scottish\n",
            "(-1.57) French\n",
            "(-1.84) English\n",
            "\n",
            "> Guillermo\n",
            "(-0.54) Portuguese\n",
            "(-1.62) Italian\n",
            "(-1.77) Spanish\n",
            "\n",
            "> Kyle\n",
            "(-1.16) Scottish\n",
            "(-1.67) English\n",
            "(-2.10) Russian\n"
          ],
          "name": "stdout"
        },
        {
          "output_type": "stream",
          "text": [
            "/usr/local/lib/python3.6/dist-packages/ipykernel_launcher.py:22: UserWarning: Implicit dimension choice for log_softmax has been deprecated. Change the call to include dim=X as an argument.\n"
          ],
          "name": "stderr"
        }
      ]
    },
    {
      "cell_type": "code",
      "metadata": {
        "id": "tKdXTtU5QUG7",
        "colab_type": "code",
        "colab": {}
      },
      "source": [
        ""
      ],
      "execution_count": 0,
      "outputs": []
    }
  ]
}