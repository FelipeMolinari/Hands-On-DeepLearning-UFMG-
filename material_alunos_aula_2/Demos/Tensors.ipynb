{
  "nbformat": 4,
  "nbformat_minor": 0,
  "metadata": {
    "accelerator": "GPU",
    "colab": {
      "name": "Tensors (1).ipynb",
      "provenance": []
    },
    "kernelspec": {
      "display_name": "Python 3",
      "language": "python",
      "name": "python3"
    },
    "language_info": {
      "codemirror_mode": {
        "name": "ipython",
        "version": 3
      },
      "file_extension": ".py",
      "mimetype": "text/x-python",
      "name": "python",
      "nbconvert_exporter": "python",
      "pygments_lexer": "ipython3",
      "version": "3.7.4"
    }
  },
  "cells": [
    {
      "cell_type": "markdown",
      "metadata": {
        "colab_type": "text",
        "id": "e1TMmJQy3L6P"
      },
      "source": [
        "# Tensors\n",
        "\n",
        "\n",
        "A $torch.Tensor$ is a multi-dimensional matrix containing elements of a single data type. More information on tensors can be found in <https://pytorch.org/docs/stable/tensors.html>."
      ]
    },
    {
      "cell_type": "code",
      "metadata": {
        "colab_type": "code",
        "id": "B9H8PvH33L6Q",
        "colab": {
          "base_uri": "https://localhost:8080/",
          "height": 476
        },
        "outputId": "05323724-1ef4-4830-e4ce-0945e6c35a8f"
      },
      "source": [
        "import torch\n",
        "\n",
        "import torch.nn as nn\n",
        "\n",
        "print('###')\n",
        "tns = torch.Tensor([[1, 2, 3], [4, 5, 6]])\n",
        "print(tns.size())\n",
        "print(tns)\n",
        "\n",
        "print('###')\n",
        "tns = torch.FloatTensor([[1, 2, 3], [4, 5, 6]])\n",
        "print(tns.size())\n",
        "print(tns)\n",
        "\n",
        "print('###')\n",
        "tns = torch.LongTensor([[1, 2, 3], [4, 5, 6]])\n",
        "print(tns.size())\n",
        "print(tns)\n",
        "\n",
        "print('###')\n",
        "tns = torch.ByteTensor([[0, 0, 1], [1, 0, 0]])\n",
        "print(tns.size())\n",
        "print(tns)\n",
        "\n",
        "print('###')\n",
        "tns = torch.IntTensor([[1, 2, 3], [4, 5, 6]])\n",
        "print(tns.size())\n",
        "print(tns)\n",
        "\n",
        "print('###')\n",
        "tns = torch.DoubleTensor([[[1, 2, 3], [4, 5, 6]], [[7, 8, 9], [10, 11, 12]]])\n",
        "print(tns.size())\n",
        "print(tns)"
      ],
      "execution_count": 1,
      "outputs": [
        {
          "output_type": "stream",
          "text": [
            "###\n",
            "torch.Size([2, 3])\n",
            "tensor([[1., 2., 3.],\n",
            "        [4., 5., 6.]])\n",
            "###\n",
            "torch.Size([2, 3])\n",
            "tensor([[1., 2., 3.],\n",
            "        [4., 5., 6.]])\n",
            "###\n",
            "torch.Size([2, 3])\n",
            "tensor([[1, 2, 3],\n",
            "        [4, 5, 6]])\n",
            "###\n",
            "torch.Size([2, 3])\n",
            "tensor([[0, 0, 1],\n",
            "        [1, 0, 0]], dtype=torch.uint8)\n",
            "###\n",
            "torch.Size([2, 3])\n",
            "tensor([[1, 2, 3],\n",
            "        [4, 5, 6]], dtype=torch.int32)\n",
            "###\n",
            "torch.Size([2, 2, 3])\n",
            "tensor([[[ 1.,  2.,  3.],\n",
            "         [ 4.,  5.,  6.]],\n",
            "\n",
            "        [[ 7.,  8.,  9.],\n",
            "         [10., 11., 12.]]], dtype=torch.float64)\n"
          ],
          "name": "stdout"
        }
      ]
    },
    {
      "cell_type": "markdown",
      "metadata": {
        "colab_type": "text",
        "id": "OR-kKhBu3L6V"
      },
      "source": [
        "## Indexing"
      ]
    },
    {
      "cell_type": "code",
      "metadata": {
        "colab_type": "code",
        "id": "ldLZFmKX3L6X",
        "colab": {
          "base_uri": "https://localhost:8080/",
          "height": 204
        },
        "outputId": "64619ace-8453-4543-9a5d-7c726e20d47e"
      },
      "source": [
        "print('size: ', tns.size())\n",
        "\n",
        "print('tns: ', tns)\n",
        "\n",
        "print('tns[0, 1, 1]: ', tns[0, 1, 1])\n",
        "tns[0, 1, 1] = 20\n",
        "print('tns[0, 1, 1]: ', tns[0, 1, 1])\n",
        "print('tns[0, :, 1]: ', tns[:, 1, 1])\n",
        "\n",
        "print('tns[0, 1, 1] > 10: ', (tns[0, 1, 1] > 10))\n",
        "print('tns[0, 1, 1].item() > 10: ', (tns[0, 1, 1].item() > 10))"
      ],
      "execution_count": 2,
      "outputs": [
        {
          "output_type": "stream",
          "text": [
            "size:  torch.Size([2, 2, 3])\n",
            "tns:  tensor([[[ 1.,  2.,  3.],\n",
            "         [ 4.,  5.,  6.]],\n",
            "\n",
            "        [[ 7.,  8.,  9.],\n",
            "         [10., 11., 12.]]], dtype=torch.float64)\n",
            "tns[0, 1, 1]:  tensor(5., dtype=torch.float64)\n",
            "tns[0, 1, 1]:  tensor(20., dtype=torch.float64)\n",
            "tns[0, :, 1]:  tensor([20., 11.], dtype=torch.float64)\n",
            "tns[0, 1, 1] > 10:  tensor(True)\n",
            "tns[0, 1, 1].item() > 10:  True\n"
          ],
          "name": "stdout"
        }
      ]
    },
    {
      "cell_type": "markdown",
      "metadata": {
        "colab_type": "text",
        "id": "LaUdc2kM3L6b"
      },
      "source": [
        "## Other tensor creation methods\n",
        "\n",
        "$torch.from\\_numpy()$ -> Creates a tensor based on an ndarray.\n",
        "\n",
        "$torch.ones()$ -> Creates a tensor filled with ones.\n",
        "\n",
        "$torch.zeros()$ -> Creates a tensor filled with zeros."
      ]
    },
    {
      "cell_type": "code",
      "metadata": {
        "colab_type": "code",
        "id": "BNvHk5wp3L6c",
        "colab": {
          "base_uri": "https://localhost:8080/",
          "height": 221
        },
        "outputId": "e0ce2c70-823c-4632-f527-bfb8015976fb"
      },
      "source": [
        "import numpy as np\n",
        "\n",
        "arr = np.array([[1, 2, 4], [8, 16, 32]])\n",
        "np_tns = torch.from_numpy(arr)\n",
        "\n",
        "ones = torch.ones((4, 5))\n",
        "zeros = torch.zeros((4, 5))\n",
        "\n",
        "print('arr: ', arr)\n",
        "print('tns: ', np_tns)\n",
        "\n",
        "print('ones: ', ones)\n",
        "print('zeros: ', zeros)"
      ],
      "execution_count": 3,
      "outputs": [
        {
          "output_type": "stream",
          "text": [
            "arr:  [[ 1  2  4]\n",
            " [ 8 16 32]]\n",
            "tns:  tensor([[ 1,  2,  4],\n",
            "        [ 8, 16, 32]])\n",
            "ones:  tensor([[1., 1., 1., 1., 1.],\n",
            "        [1., 1., 1., 1., 1.],\n",
            "        [1., 1., 1., 1., 1.],\n",
            "        [1., 1., 1., 1., 1.]])\n",
            "zeros:  tensor([[0., 0., 0., 0., 0.],\n",
            "        [0., 0., 0., 0., 0.],\n",
            "        [0., 0., 0., 0., 0.],\n",
            "        [0., 0., 0., 0., 0.]])\n"
          ],
          "name": "stdout"
        }
      ]
    },
    {
      "cell_type": "markdown",
      "metadata": {
        "colab_type": "text",
        "id": "0aYK6Yq33L6g"
      },
      "source": [
        "## GPU\n",
        "Casting a tensor $tns$ to a GPU requires only calling: $tns.cuda()$. If a specific GPU is required, the method $tns.to()$ should be used."
      ]
    },
    {
      "cell_type": "code",
      "metadata": {
        "colab_type": "code",
        "id": "ROck2x5L3L6i",
        "colab": {
          "base_uri": "https://localhost:8080/",
          "height": 51
        },
        "outputId": "101aa810-e3de-4e1c-daf9-bba3183df719"
      },
      "source": [
        "torch.ones([2, 4]).cuda()\n",
        "\n",
        "cuda0 = torch.device('cuda:0')\n",
        "torch.ones([2, 4], dtype=torch.float64, device=cuda0)"
      ],
      "execution_count": 4,
      "outputs": [
        {
          "output_type": "execute_result",
          "data": {
            "text/plain": [
              "tensor([[1., 1., 1., 1.],\n",
              "        [1., 1., 1., 1.]], device='cuda:0', dtype=torch.float64)"
            ]
          },
          "metadata": {
            "tags": []
          },
          "execution_count": 4
        }
      ]
    },
    {
      "cell_type": "markdown",
      "metadata": {
        "colab_type": "text",
        "id": "l6bYBiA93L6m"
      },
      "source": [
        "## Automatic Differentiation\n",
        "The parameter $requires\\_grad$ controls if a tensor is intended to be used to compute gradients in backpropagation or not."
      ]
    },
    {
      "cell_type": "code",
      "metadata": {
        "colab_type": "code",
        "id": "eaBMgjiZ3L6o",
        "colab": {
          "base_uri": "https://localhost:8080/",
          "height": 85
        },
        "outputId": "7433ed5e-f5e2-4590-eb57-89aed3a2c85f"
      },
      "source": [
        "tns = torch.tensor([[1., -1.], [1., 1.]], requires_grad=True)\n",
        "out = tns.pow(2).sum()\n",
        "out.backward()\n",
        "print(tns)\n",
        "print(tns.grad)"
      ],
      "execution_count": 5,
      "outputs": [
        {
          "output_type": "stream",
          "text": [
            "tensor([[ 1., -1.],\n",
            "        [ 1.,  1.]], requires_grad=True)\n",
            "tensor([[ 2., -2.],\n",
            "        [ 2.,  2.]])\n"
          ],
          "name": "stdout"
        }
      ]
    },
    {
      "cell_type": "code",
      "metadata": {
        "colab_type": "code",
        "id": "IckI2CcT4jsD",
        "colab": {}
      },
      "source": [
        ""
      ],
      "execution_count": 0,
      "outputs": []
    }
  ]
}