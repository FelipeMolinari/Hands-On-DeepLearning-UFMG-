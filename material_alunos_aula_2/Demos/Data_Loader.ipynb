{
  "nbformat": 4,
  "nbformat_minor": 0,
  "metadata": {
    "accelerator": "GPU",
    "colab": {
      "name": "Data_Loader (1).ipynb",
      "provenance": [],
      "collapsed_sections": []
    },
    "kernelspec": {
      "display_name": "Python 3",
      "language": "python",
      "name": "python3"
    },
    "language_info": {
      "codemirror_mode": {
        "name": "ipython",
        "version": 3
      },
      "file_extension": ".py",
      "mimetype": "text/x-python",
      "name": "python",
      "nbconvert_exporter": "python",
      "pygments_lexer": "ipython3",
      "version": "3.7.4"
    }
  },
  "cells": [
    {
      "cell_type": "code",
      "metadata": {
        "colab_type": "code",
        "id": "29Xs-wRN5VMo",
        "colab": {
          "base_uri": "https://localhost:8080/",
          "height": 479
        },
        "outputId": "8c88eb56-cf63-4306-a405-fdc6359d7846"
      },
      "source": [
        "!rm -r ./mnist\n",
        "\n",
        "!wget https://www.dropbox.com/s/5yre1ofqco5titj/mnist.zip?dl=0 -O mnist.zip\n",
        "!unzip -q mnist.zip\n",
        "\n",
        "!ls"
      ],
      "execution_count": 1,
      "outputs": [
        {
          "output_type": "stream",
          "text": [
            "rm: cannot remove './mnist': No such file or directory\n",
            "--2020-02-08 10:16:51--  https://www.dropbox.com/s/5yre1ofqco5titj/mnist.zip?dl=0\n",
            "Resolving www.dropbox.com (www.dropbox.com)... 162.125.1.1, 2620:100:601b:1::a27d:801\n",
            "Connecting to www.dropbox.com (www.dropbox.com)|162.125.1.1|:443... connected.\n",
            "HTTP request sent, awaiting response... 301 Moved Permanently\n",
            "Location: /s/raw/5yre1ofqco5titj/mnist.zip [following]\n",
            "--2020-02-08 10:16:52--  https://www.dropbox.com/s/raw/5yre1ofqco5titj/mnist.zip\n",
            "Reusing existing connection to www.dropbox.com:443.\n",
            "HTTP request sent, awaiting response... 302 Found\n",
            "Location: https://uc7241ff5e62995c3594e5cbac26.dl.dropboxusercontent.com/cd/0/inline/AxviwANx55VqAIgStYRU8MUVebDNA8VCYLJ8rWxTGjMsutRRBGhM-CAaCQGUApKwEgjO-Q7IopZFv4HvRTzG6xGrKfv3DMFYuA6u1tktVMvWuQ/file# [following]\n",
            "--2020-02-08 10:16:52--  https://uc7241ff5e62995c3594e5cbac26.dl.dropboxusercontent.com/cd/0/inline/AxviwANx55VqAIgStYRU8MUVebDNA8VCYLJ8rWxTGjMsutRRBGhM-CAaCQGUApKwEgjO-Q7IopZFv4HvRTzG6xGrKfv3DMFYuA6u1tktVMvWuQ/file\n",
            "Resolving uc7241ff5e62995c3594e5cbac26.dl.dropboxusercontent.com (uc7241ff5e62995c3594e5cbac26.dl.dropboxusercontent.com)... 162.125.1.6, 2620:100:601b:6::a27d:806\n",
            "Connecting to uc7241ff5e62995c3594e5cbac26.dl.dropboxusercontent.com (uc7241ff5e62995c3594e5cbac26.dl.dropboxusercontent.com)|162.125.1.6|:443... connected.\n",
            "HTTP request sent, awaiting response... 302 FOUND\n",
            "Location: /cd/0/inline2/AxtAZVjyAlPTBuVCJd13yrwSJwAJTHLliNWgpRdwzcmaYgdPpQx0T8Iwo5b_2qEOgovGmnvv4IOgf0IZeHS9XrzCS3XH7-6rJ1Bnz9vQhKP_oy7FWlheH1tby1yCQ1Y5Zo_EgGix2-Ep_28_Vwmsme1hB4CinIV2mJVwNY96i3RN5hQsvQRF5bbqDgKn5NRuwyaEZpvtpTf8jOkWBtLkQeqFp4VqHyZTKn5_r1Otv7GsSppncaZ92D9qhTeq2f0Z-TJyqJuqjAJdUbxJTVY1Es84ZZUctHFx5mWBN9s5uPJfVulTXUlbrqItqpcjfPDMyweC7iCSgs51qyzI7NpYq8mp/file [following]\n",
            "--2020-02-08 10:16:52--  https://uc7241ff5e62995c3594e5cbac26.dl.dropboxusercontent.com/cd/0/inline2/AxtAZVjyAlPTBuVCJd13yrwSJwAJTHLliNWgpRdwzcmaYgdPpQx0T8Iwo5b_2qEOgovGmnvv4IOgf0IZeHS9XrzCS3XH7-6rJ1Bnz9vQhKP_oy7FWlheH1tby1yCQ1Y5Zo_EgGix2-Ep_28_Vwmsme1hB4CinIV2mJVwNY96i3RN5hQsvQRF5bbqDgKn5NRuwyaEZpvtpTf8jOkWBtLkQeqFp4VqHyZTKn5_r1Otv7GsSppncaZ92D9qhTeq2f0Z-TJyqJuqjAJdUbxJTVY1Es84ZZUctHFx5mWBN9s5uPJfVulTXUlbrqItqpcjfPDMyweC7iCSgs51qyzI7NpYq8mp/file\n",
            "Reusing existing connection to uc7241ff5e62995c3594e5cbac26.dl.dropboxusercontent.com:443.\n",
            "HTTP request sent, awaiting response... 200 OK\n",
            "Length: 70196075 (67M) [application/zip]\n",
            "Saving to: ‘mnist.zip’\n",
            "\n",
            "mnist.zip           100%[===================>]  66.94M  11.9MB/s    in 5.6s    \n",
            "\n",
            "2020-02-08 10:16:58 (12.0 MB/s) - ‘mnist.zip’ saved [70196075/70196075]\n",
            "\n",
            "mnist  mnist.zip  sample_data\n"
          ],
          "name": "stdout"
        }
      ]
    },
    {
      "cell_type": "markdown",
      "metadata": {
        "colab_type": "text",
        "id": "Tnlmv3K55BGS"
      },
      "source": [
        "# Data Loader\n",
        "\n",
        "Data structure for loading data in parallel to the model training procedure. $DataLoader$ and $Dataset$ objects load (in a multithreaded fashion), preprocess and concatenate tensors/ndarrays/list/dicts, sending them in batches to the training procedure."
      ]
    },
    {
      "cell_type": "markdown",
      "metadata": {
        "colab_type": "text",
        "id": "MWYbLaR-5BGU"
      },
      "source": [
        "## Defining the custom Dataset subclass"
      ]
    },
    {
      "cell_type": "code",
      "metadata": {
        "colab_type": "code",
        "id": "z60pkTO95BGW",
        "colab": {}
      },
      "source": [
        "import os\n",
        "import numpy as np\n",
        "import torch\n",
        "\n",
        "from torch.utils import data\n",
        "from skimage import io\n",
        "\n",
        "# Constants.\n",
        "num_classes = 10\n",
        "root = 'mnist/'\n",
        "\n",
        "# Class that reads a sequence of image paths from a text file and creates a data.Dataset with them.\n",
        "class CustomDataset(data.Dataset):\n",
        "\n",
        "    def __init__(self, fold, normalization = 'default'):\n",
        "\n",
        "        super(CustomDataset, self).__init__()\n",
        "        \n",
        "        # Initializing variables.\n",
        "        self.fold = fold\n",
        "        self.normalization = normalization\n",
        "\n",
        "        # Creating list of paths.\n",
        "        self.imgs = self.make_dataset()\n",
        "\n",
        "        # Check for consistency in list.\n",
        "        if len(self.imgs) == 0:\n",
        "\n",
        "            raise (RuntimeError('Found 0 images, please check the data set'))\n",
        "\n",
        "    def make_dataset(self):\n",
        "\n",
        "        # Initiating item list.\n",
        "        items = []\n",
        "\n",
        "        # Joining input paths.\n",
        "        img_path = os.path.join(root, self.fold)\n",
        "\n",
        "        # Reading paths from directory.\n",
        "        data_list = [f for f in os.listdir(img_path) if os.path.isfile(os.path.join(img_path, f))]\n",
        "        \n",
        "        # Creating list containing image and ground truth paths.\n",
        "        for it in data_list:\n",
        "            item = os.path.join(img_path, it)\n",
        "            items.append(item)\n",
        "\n",
        "        # Returning list.\n",
        "        return items\n",
        "\n",
        "    def __getitem__(self, index):\n",
        "\n",
        "        # Reading items from list.\n",
        "        img_path = self.imgs[index]\n",
        "\n",
        "        # Reading images.\n",
        "        img = io.imread(img_path)\n",
        "        \n",
        "        # Reading label from image file.\n",
        "        lab = int(img_path[-5])\n",
        "\n",
        "        # Removing unwanted channels. For the case of RGB images.\n",
        "        if len(img.shape) > 2:\n",
        "            img = img[:, :, 0]\n",
        "\n",
        "        # Casting images to the appropriate dtypes.\n",
        "        img = img.astype(np.float32)\n",
        "\n",
        "        # Normalization.\n",
        "        if self.normalization == 'statistical':\n",
        "\n",
        "            img = (img - img.mean()) / img.std()\n",
        "\n",
        "        else:\n",
        "\n",
        "            mn = img.min()\n",
        "            mx = img.max()\n",
        "            img = ((img - mn) / (mx - mn))\n",
        "\n",
        "        # Adding channel dimension.\n",
        "        img = np.expand_dims(img, axis=0)\n",
        "\n",
        "        # Turning to tensors.\n",
        "        img = torch.from_numpy(img)\n",
        "\n",
        "        # Returning to iterator.\n",
        "        return img, lab\n",
        "\n",
        "    def __len__(self):\n",
        "\n",
        "        return len(self.imgs)"
      ],
      "execution_count": 0,
      "outputs": []
    },
    {
      "cell_type": "markdown",
      "metadata": {
        "colab_type": "text",
        "id": "7nY6rhye5BGa"
      },
      "source": [
        "## Iterating over dataset"
      ]
    },
    {
      "cell_type": "code",
      "metadata": {
        "colab_type": "code",
        "id": "WHVAcerb5BGb",
        "scrolled": false,
        "colab": {
          "base_uri": "https://localhost:8080/",
          "height": 1000
        },
        "outputId": "3474d583-8e10-436d-dd43-e3454a9230d8"
      },
      "source": [
        "from torch.utils.data import DataLoader\n",
        "from matplotlib import pyplot as plt\n",
        "\n",
        "%matplotlib inline\n",
        "\n",
        "# Setting data loader.\n",
        "batch_size = 1\n",
        "num_workers = 4\n",
        "\n",
        "# train_set = ListDataset('train')\n",
        "# train_loader = DataLoader(train_set, batch_size, num_workers=num_workers, shuffle=True)\n",
        "test_set = CustomDataset('test')\n",
        "test_loader = DataLoader(test_set, batch_size, num_workers=num_workers, shuffle=False)\n",
        "\n",
        "# Iterating over batches.\n",
        "# for it, data in enumerate(train_loader):\n",
        "for it, data in enumerate(test_loader):\n",
        "\n",
        "    # Obtaining images and labels for batch.\n",
        "    inps, labs = data\n",
        "\n",
        "    print('#####################################')\n",
        "    print('Iteration: ', it)\n",
        "    print('Data Size: ', inps.size())\n",
        "    print('Labels Size: ', labs.size())\n",
        "    print('')\n",
        "    \n",
        "    plt.imshow(inps[0].squeeze().data.numpy())\n",
        "    plt.xlabel('Label: ' + str(labs[0].numpy()))\n",
        "    plt.show()\n",
        "    \n",
        "    # Ending for early for visualization.\n",
        "    if it >= 10:\n",
        "        break\n",
        "    "
      ],
      "execution_count": 3,
      "outputs": [
        {
          "output_type": "stream",
          "text": [
            "#####################################\n",
            "Iteration:  0\n",
            "Data Size:  torch.Size([1, 1, 28, 28])\n",
            "Labels Size:  torch.Size([1])\n",
            "\n"
          ],
          "name": "stdout"
        },
        {
          "output_type": "display_data",
          "data": {
            "image/png": "[encoded data removed]",
            "text/plain": [
              "<Figure size 432x288 with 1 Axes>"
            ]
          },
          "metadata": {
            "tags": []
          }
        },
        {
          "output_type": "stream",
          "text": [
            "#####################################\n",
            "Iteration:  1\n",
            "Data Size:  torch.Size([1, 1, 28, 28])\n",
            "Labels Size:  torch.Size([1])\n",
            "\n"
          ],
          "name": "stdout"
        },
        {
          "output_type": "display_data",
          "data": {
            "image/png": "[encoded data removed]",
            "text/plain": [
              "<Figure size 432x288 with 1 Axes>"
            ]
          },
          "metadata": {
            "tags": []
          }
        },
        {
          "output_type": "stream",
          "text": [
            "#####################################\n",
            "Iteration:  2\n",
            "Data Size:  torch.Size([1, 1, 28, 28])\n",
            "Labels Size:  torch.Size([1])\n",
            "\n"
          ],
          "name": "stdout"
        },
        {
          "output_type": "display_data",
          "data": {
            "image/png": "[encoded data removed]",
            "text/plain": [
              "<Figure size 432x288 with 1 Axes>"
            ]
          },
          "metadata": {
            "tags": []
          }
        },
        {
          "output_type": "stream",
          "text": [
            "#####################################\n",
            "Iteration:  3\n",
            "Data Size:  torch.Size([1, 1, 28, 28])\n",
            "Labels Size:  torch.Size([1])\n",
            "\n"
          ],
          "name": "stdout"
        },
        {
          "output_type": "display_data",
          "data": {
            "image/png": "[encoded data removed]",
            "text/plain": [
              "<Figure size 432x288 with 1 Axes>"
            ]
          },
          "metadata": {
            "tags": []
          }
        },
        {
          "output_type": "stream",
          "text": [
            "#####################################\n",
            "Iteration:  4\n",
            "Data Size:  torch.Size([1, 1, 28, 28])\n",
            "Labels Size:  torch.Size([1])\n",
            "\n"
          ],
          "name": "stdout"
        },
        {
          "output_type": "display_data",
          "data": {
            "image/png": "[encoded data removed]",
            "text/plain": [
              "<Figure size 432x288 with 1 Axes>"
            ]
          },
          "metadata": {
            "tags": []
          }
        },
        {
          "output_type": "stream",
          "text": [
            "#####################################\n",
            "Iteration:  5\n",
            "Data Size:  torch.Size([1, 1, 28, 28])\n",
            "Labels Size:  torch.Size([1])\n",
            "\n"
          ],
          "name": "stdout"
        },
        {
          "output_type": "display_data",
          "data": {
            "image/png": "[encoded data removed]",
            "text/plain": [
              "<Figure size 432x288 with 1 Axes>"
            ]
          },
          "metadata": {
            "tags": []
          }
        },
        {
          "output_type": "stream",
          "text": [
            "#####################################\n",
            "Iteration:  6\n",
            "Data Size:  torch.Size([1, 1, 28, 28])\n",
            "Labels Size:  torch.Size([1])\n",
            "\n"
          ],
          "name": "stdout"
        },
        {
          "output_type": "display_data",
          "data": {
            "image/png": "[encoded data removed]",
            "text/plain": [
              "<Figure size 432x288 with 1 Axes>"
            ]
          },
          "metadata": {
            "tags": []
          }
        },
        {
          "output_type": "stream",
          "text": [
            "#####################################\n",
            "Iteration:  7\n",
            "Data Size:  torch.Size([1, 1, 28, 28])\n",
            "Labels Size:  torch.Size([1])\n",
            "\n"
          ],
          "name": "stdout"
        },
        {
          "output_type": "display_data",
          "data": {
            "image/png": "[encoded data removed]",
            "text/plain": [
              "<Figure size 432x288 with 1 Axes>"
            ]
          },
          "metadata": {
            "tags": []
          }
        },
        {
          "output_type": "stream",
          "text": [
            "#####################################\n",
            "Iteration:  8\n",
            "Data Size:  torch.Size([1, 1, 28, 28])\n",
            "Labels Size:  torch.Size([1])\n",
            "\n"
          ],
          "name": "stdout"
        },
        {
          "output_type": "display_data",
          "data": {
            "image/png": "[encoded data removed]",
            "text/plain": [
              "<Figure size 432x288 with 1 Axes>"
            ]
          },
          "metadata": {
            "tags": []
          }
        },
        {
          "output_type": "stream",
          "text": [
            "#####################################\n",
            "Iteration:  9\n",
            "Data Size:  torch.Size([1, 1, 28, 28])\n",
            "Labels Size:  torch.Size([1])\n",
            "\n"
          ],
          "name": "stdout"
        },
        {
          "output_type": "display_data",
          "data": {
            "image/png": "[encoded data removed]",
            "text/plain": [
              "<Figure size 432x288 with 1 Axes>"
            ]
          },
          "metadata": {
            "tags": []
          }
        },
        {
          "output_type": "stream",
          "text": [
            "#####################################\n",
            "Iteration:  10\n",
            "Data Size:  torch.Size([1, 1, 28, 28])\n",
            "Labels Size:  torch.Size([1])\n",
            "\n"
          ],
          "name": "stdout"
        },
        {
          "output_type": "display_data",
          "data": {
            "image/png": "[encoded data removed]",
            "text/plain": [
              "<Figure size 432x288 with 1 Axes>"
            ]
          },
          "metadata": {
            "tags": []
          }
        }
      ]
    },
    {
      "cell_type": "code",
      "metadata": {
        "colab_type": "code",
        "id": "1qR7rMek5BGe",
        "colab": {}
      },
      "source": [
        ""
      ],
      "execution_count": 0,
      "outputs": []
    }
  ]
}